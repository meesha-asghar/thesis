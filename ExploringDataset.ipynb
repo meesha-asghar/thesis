{
 "cells": [
  {
   "cell_type": "markdown",
   "metadata": {},
   "source": [
    "# Exploring the PAMAP2 Physical Activity Monitoring Dataset"
   ]
  },
  {
   "cell_type": "markdown",
   "metadata": {},
   "source": [
    "We know from dataset describtion that it is divided into 2 sub-folders: Protocol and Optional."
   ]
  },
  {
   "cell_type": "markdown",
   "metadata": {},
   "source": [
    "## Protocol"
   ]
  },
  {
   "cell_type": "code",
   "execution_count": 1,
   "metadata": {
    "collapsed": true
   },
   "outputs": [],
   "source": [
    "import pandas as pd\n",
    "import glob\n",
    "import os\n",
    "import matplotlib.pyplot as plt\n",
    "import numpy as np\n",
    "\n",
    "from pandas.api.types import is_numeric_dtype\n",
    "%matplotlib inline"
   ]
  },
  {
   "cell_type": "code",
   "execution_count": 2,
   "metadata": {
    "collapsed": true
   },
   "outputs": [],
   "source": [
    "path = r'C:\\Users\\meesh\\Desktop\\PAMAP2 Physical Activity Monitoring Data Set\\PAMAP2_Dataset\\Protocol' \n",
    "all_files = glob.glob(os.path.join(path, \"*.dat\"))\n",
    "\n",
    "df_from_each_file = (pd.read_csv(f,header=None, delimiter=r\"\\s+\").assign(subject = os.path.splitext(os.path.basename(f))[0]) for f in all_files)\n",
    "protocol_df   = pd.concat(df_from_each_file, ignore_index=True)"
   ]
  },
  {
   "cell_type": "markdown",
   "metadata": {},
   "source": [
    "The first thing we will check is the size of our dataset. Shape tells us about the rows and columns of dataframe"
   ]
  },
  {
   "cell_type": "code",
   "execution_count": 3,
   "metadata": {},
   "outputs": [
    {
     "data": {
      "text/plain": [
       "(2872533, 55)"
      ]
     },
     "execution_count": 3,
     "metadata": {},
     "output_type": "execute_result"
    }
   ],
   "source": [
    "protocol_df.shape"
   ]
  },
  {
   "cell_type": "code",
   "execution_count": 4,
   "metadata": {
    "collapsed": true
   },
   "outputs": [],
   "source": [
    "hand_lst = []\n",
    "chest_lst = []\n",
    "ankle_lst = []\n",
    "for i in range(17):\n",
    "    hand_lst.append('hand_'+str(i+1))\n",
    "for i in range(17):\n",
    "    chest_lst.append('chest_'+str(i+1))\n",
    "for i in range(17):\n",
    "    ankle_lst.append('ankle_'+str(i+1))\n",
    "      \n",
    "df_columns = ['timestamp','activityID','heartrate'] + hand_lst + chest_lst + ankle_lst + ['subject']"
   ]
  },
  {
   "cell_type": "code",
   "execution_count": 5,
   "metadata": {
    "collapsed": true
   },
   "outputs": [],
   "source": [
    "protocol_df.columns = df_columns"
   ]
  },
  {
   "cell_type": "code",
   "execution_count": 6,
   "metadata": {
    "scrolled": true
   },
   "outputs": [
    {
     "data": {
      "text/html": [
       "<div>\n",
       "<style>\n",
       "    .dataframe thead tr:only-child th {\n",
       "        text-align: right;\n",
       "    }\n",
       "\n",
       "    .dataframe thead th {\n",
       "        text-align: left;\n",
       "    }\n",
       "\n",
       "    .dataframe tbody tr th {\n",
       "        vertical-align: top;\n",
       "    }\n",
       "</style>\n",
       "<table border=\"1\" class=\"dataframe\">\n",
       "  <thead>\n",
       "    <tr style=\"text-align: right;\">\n",
       "      <th></th>\n",
       "      <th>timestamp</th>\n",
       "      <th>activityID</th>\n",
       "      <th>heartrate</th>\n",
       "      <th>hand_1</th>\n",
       "      <th>hand_2</th>\n",
       "      <th>hand_3</th>\n",
       "      <th>hand_4</th>\n",
       "      <th>hand_5</th>\n",
       "      <th>hand_6</th>\n",
       "      <th>hand_7</th>\n",
       "      <th>...</th>\n",
       "      <th>ankle_9</th>\n",
       "      <th>ankle_10</th>\n",
       "      <th>ankle_11</th>\n",
       "      <th>ankle_12</th>\n",
       "      <th>ankle_13</th>\n",
       "      <th>ankle_14</th>\n",
       "      <th>ankle_15</th>\n",
       "      <th>ankle_16</th>\n",
       "      <th>ankle_17</th>\n",
       "      <th>subject</th>\n",
       "    </tr>\n",
       "  </thead>\n",
       "  <tbody>\n",
       "    <tr>\n",
       "      <th>0</th>\n",
       "      <td>8.38</td>\n",
       "      <td>0</td>\n",
       "      <td>104.0</td>\n",
       "      <td>30.0</td>\n",
       "      <td>2.37223</td>\n",
       "      <td>8.60074</td>\n",
       "      <td>3.51048</td>\n",
       "      <td>2.43954</td>\n",
       "      <td>8.76165</td>\n",
       "      <td>3.35465</td>\n",
       "      <td>...</td>\n",
       "      <td>0.009250</td>\n",
       "      <td>-0.017580</td>\n",
       "      <td>-61.1888</td>\n",
       "      <td>-38.9599</td>\n",
       "      <td>-58.1438</td>\n",
       "      <td>1.0</td>\n",
       "      <td>0.0</td>\n",
       "      <td>0.0</td>\n",
       "      <td>0.0</td>\n",
       "      <td>subject101</td>\n",
       "    </tr>\n",
       "    <tr>\n",
       "      <th>1</th>\n",
       "      <td>8.39</td>\n",
       "      <td>0</td>\n",
       "      <td>NaN</td>\n",
       "      <td>30.0</td>\n",
       "      <td>2.18837</td>\n",
       "      <td>8.56560</td>\n",
       "      <td>3.66179</td>\n",
       "      <td>2.39494</td>\n",
       "      <td>8.55081</td>\n",
       "      <td>3.64207</td>\n",
       "      <td>...</td>\n",
       "      <td>-0.004638</td>\n",
       "      <td>0.000368</td>\n",
       "      <td>-59.8479</td>\n",
       "      <td>-38.8919</td>\n",
       "      <td>-58.5253</td>\n",
       "      <td>1.0</td>\n",
       "      <td>0.0</td>\n",
       "      <td>0.0</td>\n",
       "      <td>0.0</td>\n",
       "      <td>subject101</td>\n",
       "    </tr>\n",
       "    <tr>\n",
       "      <th>2</th>\n",
       "      <td>8.40</td>\n",
       "      <td>0</td>\n",
       "      <td>NaN</td>\n",
       "      <td>30.0</td>\n",
       "      <td>2.37357</td>\n",
       "      <td>8.60107</td>\n",
       "      <td>3.54898</td>\n",
       "      <td>2.30514</td>\n",
       "      <td>8.53644</td>\n",
       "      <td>3.73280</td>\n",
       "      <td>...</td>\n",
       "      <td>0.000148</td>\n",
       "      <td>0.022495</td>\n",
       "      <td>-60.7361</td>\n",
       "      <td>-39.4138</td>\n",
       "      <td>-58.3999</td>\n",
       "      <td>1.0</td>\n",
       "      <td>0.0</td>\n",
       "      <td>0.0</td>\n",
       "      <td>0.0</td>\n",
       "      <td>subject101</td>\n",
       "    </tr>\n",
       "    <tr>\n",
       "      <th>3</th>\n",
       "      <td>8.41</td>\n",
       "      <td>0</td>\n",
       "      <td>NaN</td>\n",
       "      <td>30.0</td>\n",
       "      <td>2.07473</td>\n",
       "      <td>8.52853</td>\n",
       "      <td>3.66021</td>\n",
       "      <td>2.33528</td>\n",
       "      <td>8.53622</td>\n",
       "      <td>3.73277</td>\n",
       "      <td>...</td>\n",
       "      <td>-0.020301</td>\n",
       "      <td>0.011275</td>\n",
       "      <td>-60.4091</td>\n",
       "      <td>-38.7635</td>\n",
       "      <td>-58.3956</td>\n",
       "      <td>1.0</td>\n",
       "      <td>0.0</td>\n",
       "      <td>0.0</td>\n",
       "      <td>0.0</td>\n",
       "      <td>subject101</td>\n",
       "    </tr>\n",
       "    <tr>\n",
       "      <th>4</th>\n",
       "      <td>8.42</td>\n",
       "      <td>0</td>\n",
       "      <td>NaN</td>\n",
       "      <td>30.0</td>\n",
       "      <td>2.22936</td>\n",
       "      <td>8.83122</td>\n",
       "      <td>3.70000</td>\n",
       "      <td>2.23055</td>\n",
       "      <td>8.59741</td>\n",
       "      <td>3.76295</td>\n",
       "      <td>...</td>\n",
       "      <td>-0.014303</td>\n",
       "      <td>-0.002823</td>\n",
       "      <td>-61.5199</td>\n",
       "      <td>-39.3879</td>\n",
       "      <td>-58.2694</td>\n",
       "      <td>1.0</td>\n",
       "      <td>0.0</td>\n",
       "      <td>0.0</td>\n",
       "      <td>0.0</td>\n",
       "      <td>subject101</td>\n",
       "    </tr>\n",
       "  </tbody>\n",
       "</table>\n",
       "<p>5 rows × 55 columns</p>\n",
       "</div>"
      ],
      "text/plain": [
       "   timestamp  activityID  heartrate  hand_1   hand_2   hand_3   hand_4  \\\n",
       "0       8.38           0      104.0    30.0  2.37223  8.60074  3.51048   \n",
       "1       8.39           0        NaN    30.0  2.18837  8.56560  3.66179   \n",
       "2       8.40           0        NaN    30.0  2.37357  8.60107  3.54898   \n",
       "3       8.41           0        NaN    30.0  2.07473  8.52853  3.66021   \n",
       "4       8.42           0        NaN    30.0  2.22936  8.83122  3.70000   \n",
       "\n",
       "    hand_5   hand_6   hand_7     ...       ankle_9  ankle_10  ankle_11  \\\n",
       "0  2.43954  8.76165  3.35465     ...      0.009250 -0.017580  -61.1888   \n",
       "1  2.39494  8.55081  3.64207     ...     -0.004638  0.000368  -59.8479   \n",
       "2  2.30514  8.53644  3.73280     ...      0.000148  0.022495  -60.7361   \n",
       "3  2.33528  8.53622  3.73277     ...     -0.020301  0.011275  -60.4091   \n",
       "4  2.23055  8.59741  3.76295     ...     -0.014303 -0.002823  -61.5199   \n",
       "\n",
       "   ankle_12  ankle_13  ankle_14  ankle_15  ankle_16  ankle_17     subject  \n",
       "0  -38.9599  -58.1438       1.0       0.0       0.0       0.0  subject101  \n",
       "1  -38.8919  -58.5253       1.0       0.0       0.0       0.0  subject101  \n",
       "2  -39.4138  -58.3999       1.0       0.0       0.0       0.0  subject101  \n",
       "3  -38.7635  -58.3956       1.0       0.0       0.0       0.0  subject101  \n",
       "4  -39.3879  -58.2694       1.0       0.0       0.0       0.0  subject101  \n",
       "\n",
       "[5 rows x 55 columns]"
      ]
     },
     "execution_count": 6,
     "metadata": {},
     "output_type": "execute_result"
    }
   ],
   "source": [
    "protocol_df.head()"
   ]
  },
  {
   "cell_type": "code",
   "execution_count": 7,
   "metadata": {
    "scrolled": true
   },
   "outputs": [
    {
     "data": {
      "text/plain": [
       "0     929661\n",
       "4     238761\n",
       "17    238690\n",
       "1     192523\n",
       "3     189931\n",
       "7     188107\n",
       "2     185188\n",
       "16    175353\n",
       "6     164600\n",
       "12    117216\n",
       "13    104944\n",
       "5      98199\n",
       "24     49360\n",
       "Name: activityID, dtype: int64"
      ]
     },
     "execution_count": 7,
     "metadata": {},
     "output_type": "execute_result"
    }
   ],
   "source": [
    "protocol_df['activityID'].value_counts()"
   ]
  },
  {
   "cell_type": "markdown",
   "metadata": {},
   "source": [
    "We know from the describtion that activityID = 0 is transient and should be discarded. We have 929661 values that should be discarded"
   ]
  },
  {
   "cell_type": "code",
   "execution_count": 8,
   "metadata": {
    "collapsed": true
   },
   "outputs": [],
   "source": [
    "protocol_df = protocol_df[protocol_df.activityID != 0]"
   ]
  },
  {
   "cell_type": "code",
   "execution_count": 9,
   "metadata": {},
   "outputs": [
    {
     "data": {
      "text/plain": [
       "1942872"
      ]
     },
     "execution_count": 9,
     "metadata": {},
     "output_type": "execute_result"
    }
   ],
   "source": [
    "len(protocol_df)"
   ]
  },
  {
   "cell_type": "markdown",
   "metadata": {},
   "source": [
    "To know how many data we have per test subject we can use groupby()"
   ]
  },
  {
   "cell_type": "code",
   "execution_count": 10,
   "metadata": {},
   "outputs": [
    {
     "data": {
      "text/plain": [
       "subject\n",
       "subject101    249957\n",
       "subject102    263349\n",
       "subject103    174338\n",
       "subject104    231421\n",
       "subject105    272442\n",
       "subject106    250096\n",
       "subject107    232776\n",
       "subject108    262102\n",
       "subject109      6391\n",
       "Name: subject, dtype: int64"
      ]
     },
     "execution_count": 10,
     "metadata": {},
     "output_type": "execute_result"
    }
   ],
   "source": [
    "gp_by_subject = protocol_df.groupby(['subject'])\n",
    "gp_by_subject['subject'].count()"
   ]
  },
  {
   "cell_type": "code",
   "execution_count": 11,
   "metadata": {},
   "outputs": [
    {
     "data": {
      "text/plain": [
       "<matplotlib.axes._subplots.AxesSubplot at 0x1d1c04387b8>"
      ]
     },
     "execution_count": 11,
     "metadata": {},
     "output_type": "execute_result"
    },
    {
     "data": {
      "image/png": "[encoded data removed]",
      "text/plain": [
       "<matplotlib.figure.Figure at 0x1d1b1828198>"
      ]
     },
     "metadata": {},
     "output_type": "display_data"
    }
   ],
   "source": [
    "subjects_p = protocol_df['subject'].value_counts()\n",
    "subjects_p.plot(kind=\"bar\")"
   ]
  },
  {
   "cell_type": "markdown",
   "metadata": {},
   "source": [
    "## Optional"
   ]
  },
  {
   "cell_type": "code",
   "execution_count": 12,
   "metadata": {
    "collapsed": true
   },
   "outputs": [],
   "source": [
    "path2 = r'C:\\Users\\meesh\\Desktop\\PAMAP2 Physical Activity Monitoring Data Set\\PAMAP2_Dataset\\Optional' \n",
    "all_files2 = glob.glob(os.path.join(path2, \"*.dat\"))\n",
    "\n",
    "df_from_each_file2 = (pd.read_csv(f,header=None, delimiter=r\"\\s+\").assign(subject = os.path.splitext(os.path.basename(f))[0]) for f in all_files2)\n",
    "optional_df   = pd.concat(df_from_each_file2, ignore_index=True)"
   ]
  },
  {
   "cell_type": "markdown",
   "metadata": {},
   "source": [
    "We can see that some of the data is missing. Many columns contain values less than 977972. "
   ]
  },
  {
   "cell_type": "code",
   "execution_count": 13,
   "metadata": {},
   "outputs": [
    {
     "data": {
      "text/plain": [
       "(977972, 55)"
      ]
     },
     "execution_count": 13,
     "metadata": {},
     "output_type": "execute_result"
    }
   ],
   "source": [
    "optional_df.shape"
   ]
  },
  {
   "cell_type": "code",
   "execution_count": 14,
   "metadata": {
    "collapsed": true
   },
   "outputs": [],
   "source": [
    "optional_df.columns = df_columns"
   ]
  },
  {
   "cell_type": "code",
   "execution_count": 15,
   "metadata": {},
   "outputs": [
    {
     "data": {
      "text/html": [
       "<div>\n",
       "<style>\n",
       "    .dataframe thead tr:only-child th {\n",
       "        text-align: right;\n",
       "    }\n",
       "\n",
       "    .dataframe thead th {\n",
       "        text-align: left;\n",
       "    }\n",
       "\n",
       "    .dataframe tbody tr th {\n",
       "        vertical-align: top;\n",
       "    }\n",
       "</style>\n",
       "<table border=\"1\" class=\"dataframe\">\n",
       "  <thead>\n",
       "    <tr style=\"text-align: right;\">\n",
       "      <th></th>\n",
       "      <th>timestamp</th>\n",
       "      <th>activityID</th>\n",
       "      <th>heartrate</th>\n",
       "      <th>hand_1</th>\n",
       "      <th>hand_2</th>\n",
       "      <th>hand_3</th>\n",
       "      <th>hand_4</th>\n",
       "      <th>hand_5</th>\n",
       "      <th>hand_6</th>\n",
       "      <th>hand_7</th>\n",
       "      <th>...</th>\n",
       "      <th>ankle_9</th>\n",
       "      <th>ankle_10</th>\n",
       "      <th>ankle_11</th>\n",
       "      <th>ankle_12</th>\n",
       "      <th>ankle_13</th>\n",
       "      <th>ankle_14</th>\n",
       "      <th>ankle_15</th>\n",
       "      <th>ankle_16</th>\n",
       "      <th>ankle_17</th>\n",
       "      <th>subject</th>\n",
       "    </tr>\n",
       "  </thead>\n",
       "  <tbody>\n",
       "    <tr>\n",
       "      <th>0</th>\n",
       "      <td>10.03</td>\n",
       "      <td>0</td>\n",
       "      <td>105.0</td>\n",
       "      <td>33.3125</td>\n",
       "      <td>1.99964</td>\n",
       "      <td>6.94837</td>\n",
       "      <td>5.08845</td>\n",
       "      <td>2.62244</td>\n",
       "      <td>7.73457</td>\n",
       "      <td>4.64028</td>\n",
       "      <td>...</td>\n",
       "      <td>0.009471</td>\n",
       "      <td>0.003633</td>\n",
       "      <td>-43.8463</td>\n",
       "      <td>-2.97306</td>\n",
       "      <td>45.0822</td>\n",
       "      <td>1.0</td>\n",
       "      <td>0.0</td>\n",
       "      <td>0.0</td>\n",
       "      <td>0.0</td>\n",
       "      <td>subject101</td>\n",
       "    </tr>\n",
       "    <tr>\n",
       "      <th>1</th>\n",
       "      <td>10.04</td>\n",
       "      <td>0</td>\n",
       "      <td>NaN</td>\n",
       "      <td>33.3125</td>\n",
       "      <td>1.80990</td>\n",
       "      <td>6.45729</td>\n",
       "      <td>5.16424</td>\n",
       "      <td>2.19725</td>\n",
       "      <td>6.93762</td>\n",
       "      <td>5.06528</td>\n",
       "      <td>...</td>\n",
       "      <td>0.070031</td>\n",
       "      <td>0.001804</td>\n",
       "      <td>-43.8385</td>\n",
       "      <td>-2.55481</td>\n",
       "      <td>46.8195</td>\n",
       "      <td>1.0</td>\n",
       "      <td>0.0</td>\n",
       "      <td>0.0</td>\n",
       "      <td>0.0</td>\n",
       "      <td>subject101</td>\n",
       "    </tr>\n",
       "    <tr>\n",
       "      <th>2</th>\n",
       "      <td>10.05</td>\n",
       "      <td>0</td>\n",
       "      <td>NaN</td>\n",
       "      <td>33.3125</td>\n",
       "      <td>1.82756</td>\n",
       "      <td>5.93151</td>\n",
       "      <td>5.78208</td>\n",
       "      <td>2.01408</td>\n",
       "      <td>6.28989</td>\n",
       "      <td>5.44441</td>\n",
       "      <td>...</td>\n",
       "      <td>-0.002170</td>\n",
       "      <td>0.012096</td>\n",
       "      <td>-43.6100</td>\n",
       "      <td>-3.00084</td>\n",
       "      <td>46.5653</td>\n",
       "      <td>1.0</td>\n",
       "      <td>0.0</td>\n",
       "      <td>0.0</td>\n",
       "      <td>0.0</td>\n",
       "      <td>subject101</td>\n",
       "    </tr>\n",
       "    <tr>\n",
       "      <th>3</th>\n",
       "      <td>10.06</td>\n",
       "      <td>0</td>\n",
       "      <td>NaN</td>\n",
       "      <td>33.3125</td>\n",
       "      <td>1.75760</td>\n",
       "      <td>5.78202</td>\n",
       "      <td>5.97397</td>\n",
       "      <td>1.83344</td>\n",
       "      <td>5.83858</td>\n",
       "      <td>5.92881</td>\n",
       "      <td>...</td>\n",
       "      <td>-0.008545</td>\n",
       "      <td>0.007356</td>\n",
       "      <td>-43.5199</td>\n",
       "      <td>-1.99822</td>\n",
       "      <td>45.5850</td>\n",
       "      <td>1.0</td>\n",
       "      <td>0.0</td>\n",
       "      <td>0.0</td>\n",
       "      <td>0.0</td>\n",
       "      <td>subject101</td>\n",
       "    </tr>\n",
       "    <tr>\n",
       "      <th>4</th>\n",
       "      <td>10.07</td>\n",
       "      <td>0</td>\n",
       "      <td>NaN</td>\n",
       "      <td>33.3125</td>\n",
       "      <td>1.50670</td>\n",
       "      <td>6.20407</td>\n",
       "      <td>6.27669</td>\n",
       "      <td>1.71564</td>\n",
       "      <td>5.82465</td>\n",
       "      <td>6.27627</td>\n",
       "      <td>...</td>\n",
       "      <td>0.036445</td>\n",
       "      <td>-0.004679</td>\n",
       "      <td>-43.6258</td>\n",
       "      <td>-2.43575</td>\n",
       "      <td>45.5812</td>\n",
       "      <td>1.0</td>\n",
       "      <td>0.0</td>\n",
       "      <td>0.0</td>\n",
       "      <td>0.0</td>\n",
       "      <td>subject101</td>\n",
       "    </tr>\n",
       "  </tbody>\n",
       "</table>\n",
       "<p>5 rows × 55 columns</p>\n",
       "</div>"
      ],
      "text/plain": [
       "   timestamp  activityID  heartrate   hand_1   hand_2   hand_3   hand_4  \\\n",
       "0      10.03           0      105.0  33.3125  1.99964  6.94837  5.08845   \n",
       "1      10.04           0        NaN  33.3125  1.80990  6.45729  5.16424   \n",
       "2      10.05           0        NaN  33.3125  1.82756  5.93151  5.78208   \n",
       "3      10.06           0        NaN  33.3125  1.75760  5.78202  5.97397   \n",
       "4      10.07           0        NaN  33.3125  1.50670  6.20407  6.27669   \n",
       "\n",
       "    hand_5   hand_6   hand_7     ...       ankle_9  ankle_10  ankle_11  \\\n",
       "0  2.62244  7.73457  4.64028     ...      0.009471  0.003633  -43.8463   \n",
       "1  2.19725  6.93762  5.06528     ...      0.070031  0.001804  -43.8385   \n",
       "2  2.01408  6.28989  5.44441     ...     -0.002170  0.012096  -43.6100   \n",
       "3  1.83344  5.83858  5.92881     ...     -0.008545  0.007356  -43.5199   \n",
       "4  1.71564  5.82465  6.27627     ...      0.036445 -0.004679  -43.6258   \n",
       "\n",
       "   ankle_12  ankle_13  ankle_14  ankle_15  ankle_16  ankle_17     subject  \n",
       "0  -2.97306   45.0822       1.0       0.0       0.0       0.0  subject101  \n",
       "1  -2.55481   46.8195       1.0       0.0       0.0       0.0  subject101  \n",
       "2  -3.00084   46.5653       1.0       0.0       0.0       0.0  subject101  \n",
       "3  -1.99822   45.5850       1.0       0.0       0.0       0.0  subject101  \n",
       "4  -2.43575   45.5812       1.0       0.0       0.0       0.0  subject101  \n",
       "\n",
       "[5 rows x 55 columns]"
      ]
     },
     "execution_count": 15,
     "metadata": {},
     "output_type": "execute_result"
    }
   ],
   "source": [
    "optional_df.head()"
   ]
  },
  {
   "cell_type": "markdown",
   "metadata": {},
   "source": [
    "Removing activityID = 0"
   ]
  },
  {
   "cell_type": "code",
   "execution_count": 16,
   "metadata": {
    "collapsed": true
   },
   "outputs": [],
   "source": [
    "optional_df = optional_df[optional_df.activityID != 0]"
   ]
  },
  {
   "cell_type": "code",
   "execution_count": 17,
   "metadata": {},
   "outputs": [
    {
     "data": {
      "text/plain": [
       "782081"
      ]
     },
     "execution_count": 17,
     "metadata": {},
     "output_type": "execute_result"
    }
   ],
   "source": [
    "len(optional_df)"
   ]
  },
  {
   "cell_type": "markdown",
   "metadata": {},
   "source": [
    "After removing activityID = 0, we are left with 782081 rows"
   ]
  },
  {
   "cell_type": "markdown",
   "metadata": {},
   "source": [
    "To know total data per subject"
   ]
  },
  {
   "cell_type": "code",
   "execution_count": 18,
   "metadata": {
    "collapsed": true
   },
   "outputs": [],
   "source": [
    "grouped_by_subject = optional_df.groupby(['subject'])"
   ]
  },
  {
   "cell_type": "code",
   "execution_count": 19,
   "metadata": {},
   "outputs": [
    {
     "data": {
      "text/plain": [
       "subject\n",
       "subject101    219368\n",
       "subject105    139371\n",
       "subject106    112277\n",
       "subject108    152192\n",
       "subject109    158873\n",
       "Name: subject, dtype: int64"
      ]
     },
     "execution_count": 19,
     "metadata": {},
     "output_type": "execute_result"
    }
   ],
   "source": [
    "grouped_by_subject['subject'].count()"
   ]
  },
  {
   "cell_type": "code",
   "execution_count": 20,
   "metadata": {},
   "outputs": [
    {
     "data": {
      "text/plain": [
       "<matplotlib.axes._subplots.AxesSubplot at 0x1d180057ba8>"
      ]
     },
     "execution_count": 20,
     "metadata": {},
     "output_type": "execute_result"
    },
    {
     "data": {
      "image/png": "[encoded data removed]",
      "text/plain": [
       "<matplotlib.figure.Figure at 0x1d1b1822ac8>"
      ]
     },
     "metadata": {},
     "output_type": "display_data"
    }
   ],
   "source": [
    "subjects_o = optional_df['subject'].value_counts()\n",
    "subjects_o.plot(kind=\"bar\")"
   ]
  },
  {
   "cell_type": "markdown",
   "metadata": {},
   "source": [
    "## Merging Datasets"
   ]
  },
  {
   "cell_type": "code",
   "execution_count": 21,
   "metadata": {},
   "outputs": [
    {
     "data": {
      "text/plain": [
       "(2724953, 55)"
      ]
     },
     "execution_count": 21,
     "metadata": {},
     "output_type": "execute_result"
    }
   ],
   "source": [
    "dfs = [optional_df, protocol_df]\n",
    "df = pd.concat(dfs,ignore_index=True)\n",
    "df.shape"
   ]
  },
  {
   "cell_type": "code",
   "execution_count": 22,
   "metadata": {},
   "outputs": [],
   "source": [
    "subject_activities = pd.crosstab(df.subject,df.activityID )"
   ]
  },
  {
   "cell_type": "code",
   "execution_count": 23,
   "metadata": {
    "scrolled": false
   },
   "outputs": [
    {
     "data": {
      "text/html": [
       "<div>\n",
       "<style>\n",
       "    .dataframe thead tr:only-child th {\n",
       "        text-align: right;\n",
       "    }\n",
       "\n",
       "    .dataframe thead th {\n",
       "        text-align: left;\n",
       "    }\n",
       "\n",
       "    .dataframe tbody tr th {\n",
       "        vertical-align: top;\n",
       "    }\n",
       "</style>\n",
       "<table border=\"1\" class=\"dataframe\">\n",
       "  <thead>\n",
       "    <tr style=\"text-align: right;\">\n",
       "      <th>activityID</th>\n",
       "      <th>1</th>\n",
       "      <th>2</th>\n",
       "      <th>3</th>\n",
       "      <th>4</th>\n",
       "      <th>5</th>\n",
       "      <th>6</th>\n",
       "      <th>7</th>\n",
       "      <th>9</th>\n",
       "      <th>10</th>\n",
       "      <th>11</th>\n",
       "      <th>12</th>\n",
       "      <th>13</th>\n",
       "      <th>16</th>\n",
       "      <th>17</th>\n",
       "      <th>18</th>\n",
       "      <th>19</th>\n",
       "      <th>20</th>\n",
       "      <th>24</th>\n",
       "      <th>All</th>\n",
       "    </tr>\n",
       "    <tr>\n",
       "      <th>subject</th>\n",
       "      <th></th>\n",
       "      <th></th>\n",
       "      <th></th>\n",
       "      <th></th>\n",
       "      <th></th>\n",
       "      <th></th>\n",
       "      <th></th>\n",
       "      <th></th>\n",
       "      <th></th>\n",
       "      <th></th>\n",
       "      <th></th>\n",
       "      <th></th>\n",
       "      <th></th>\n",
       "      <th></th>\n",
       "      <th></th>\n",
       "      <th></th>\n",
       "      <th></th>\n",
       "      <th></th>\n",
       "      <th></th>\n",
       "    </tr>\n",
       "  </thead>\n",
       "  <tbody>\n",
       "    <tr>\n",
       "      <th>subject101</th>\n",
       "      <td>27187</td>\n",
       "      <td>23480</td>\n",
       "      <td>21717</td>\n",
       "      <td>22253</td>\n",
       "      <td>21265</td>\n",
       "      <td>23575</td>\n",
       "      <td>20265</td>\n",
       "      <td>83646</td>\n",
       "      <td>0</td>\n",
       "      <td>54519</td>\n",
       "      <td>15890</td>\n",
       "      <td>14899</td>\n",
       "      <td>22941</td>\n",
       "      <td>23573</td>\n",
       "      <td>27114</td>\n",
       "      <td>54089</td>\n",
       "      <td>0</td>\n",
       "      <td>12912</td>\n",
       "      <td>469325</td>\n",
       "    </tr>\n",
       "    <tr>\n",
       "      <th>subject102</th>\n",
       "      <td>23430</td>\n",
       "      <td>22345</td>\n",
       "      <td>25576</td>\n",
       "      <td>32533</td>\n",
       "      <td>9238</td>\n",
       "      <td>25108</td>\n",
       "      <td>29739</td>\n",
       "      <td>0</td>\n",
       "      <td>0</td>\n",
       "      <td>0</td>\n",
       "      <td>17342</td>\n",
       "      <td>15213</td>\n",
       "      <td>20683</td>\n",
       "      <td>28880</td>\n",
       "      <td>0</td>\n",
       "      <td>0</td>\n",
       "      <td>0</td>\n",
       "      <td>13262</td>\n",
       "      <td>263349</td>\n",
       "    </tr>\n",
       "    <tr>\n",
       "      <th>subject103</th>\n",
       "      <td>22044</td>\n",
       "      <td>28761</td>\n",
       "      <td>20533</td>\n",
       "      <td>29036</td>\n",
       "      <td>0</td>\n",
       "      <td>0</td>\n",
       "      <td>0</td>\n",
       "      <td>0</td>\n",
       "      <td>0</td>\n",
       "      <td>0</td>\n",
       "      <td>10389</td>\n",
       "      <td>15275</td>\n",
       "      <td>20325</td>\n",
       "      <td>27975</td>\n",
       "      <td>0</td>\n",
       "      <td>0</td>\n",
       "      <td>0</td>\n",
       "      <td>0</td>\n",
       "      <td>174338</td>\n",
       "    </tr>\n",
       "    <tr>\n",
       "      <th>subject104</th>\n",
       "      <td>23047</td>\n",
       "      <td>25492</td>\n",
       "      <td>24706</td>\n",
       "      <td>31932</td>\n",
       "      <td>1</td>\n",
       "      <td>22699</td>\n",
       "      <td>27533</td>\n",
       "      <td>0</td>\n",
       "      <td>0</td>\n",
       "      <td>0</td>\n",
       "      <td>16694</td>\n",
       "      <td>14285</td>\n",
       "      <td>20037</td>\n",
       "      <td>24995</td>\n",
       "      <td>0</td>\n",
       "      <td>0</td>\n",
       "      <td>0</td>\n",
       "      <td>0</td>\n",
       "      <td>231421</td>\n",
       "    </tr>\n",
       "    <tr>\n",
       "      <th>subject105</th>\n",
       "      <td>23699</td>\n",
       "      <td>26864</td>\n",
       "      <td>22132</td>\n",
       "      <td>32033</td>\n",
       "      <td>24646</td>\n",
       "      <td>24577</td>\n",
       "      <td>26271</td>\n",
       "      <td>0</td>\n",
       "      <td>110883</td>\n",
       "      <td>0</td>\n",
       "      <td>14281</td>\n",
       "      <td>12727</td>\n",
       "      <td>24445</td>\n",
       "      <td>33034</td>\n",
       "      <td>0</td>\n",
       "      <td>28488</td>\n",
       "      <td>0</td>\n",
       "      <td>7733</td>\n",
       "      <td>411813</td>\n",
       "    </tr>\n",
       "    <tr>\n",
       "      <th>subject106</th>\n",
       "      <td>23340</td>\n",
       "      <td>23041</td>\n",
       "      <td>24356</td>\n",
       "      <td>25721</td>\n",
       "      <td>22825</td>\n",
       "      <td>20486</td>\n",
       "      <td>26686</td>\n",
       "      <td>0</td>\n",
       "      <td>61777</td>\n",
       "      <td>0</td>\n",
       "      <td>13291</td>\n",
       "      <td>11272</td>\n",
       "      <td>21078</td>\n",
       "      <td>37744</td>\n",
       "      <td>21786</td>\n",
       "      <td>28714</td>\n",
       "      <td>0</td>\n",
       "      <td>256</td>\n",
       "      <td>362373</td>\n",
       "    </tr>\n",
       "    <tr>\n",
       "      <th>subject107</th>\n",
       "      <td>25611</td>\n",
       "      <td>12282</td>\n",
       "      <td>25751</td>\n",
       "      <td>33720</td>\n",
       "      <td>3692</td>\n",
       "      <td>22680</td>\n",
       "      <td>28725</td>\n",
       "      <td>0</td>\n",
       "      <td>0</td>\n",
       "      <td>0</td>\n",
       "      <td>17646</td>\n",
       "      <td>11618</td>\n",
       "      <td>21552</td>\n",
       "      <td>29499</td>\n",
       "      <td>0</td>\n",
       "      <td>0</td>\n",
       "      <td>0</td>\n",
       "      <td>0</td>\n",
       "      <td>232776</td>\n",
       "    </tr>\n",
       "    <tr>\n",
       "      <th>subject108</th>\n",
       "      <td>24165</td>\n",
       "      <td>22923</td>\n",
       "      <td>25160</td>\n",
       "      <td>31533</td>\n",
       "      <td>16532</td>\n",
       "      <td>25475</td>\n",
       "      <td>28888</td>\n",
       "      <td>0</td>\n",
       "      <td>68725</td>\n",
       "      <td>0</td>\n",
       "      <td>11683</td>\n",
       "      <td>9655</td>\n",
       "      <td>24292</td>\n",
       "      <td>32990</td>\n",
       "      <td>23650</td>\n",
       "      <td>41691</td>\n",
       "      <td>18126</td>\n",
       "      <td>8806</td>\n",
       "      <td>414294</td>\n",
       "    </tr>\n",
       "    <tr>\n",
       "      <th>subject109</th>\n",
       "      <td>0</td>\n",
       "      <td>0</td>\n",
       "      <td>0</td>\n",
       "      <td>0</td>\n",
       "      <td>0</td>\n",
       "      <td>0</td>\n",
       "      <td>0</td>\n",
       "      <td>0</td>\n",
       "      <td>68550</td>\n",
       "      <td>0</td>\n",
       "      <td>0</td>\n",
       "      <td>0</td>\n",
       "      <td>0</td>\n",
       "      <td>0</td>\n",
       "      <td>27328</td>\n",
       "      <td>34206</td>\n",
       "      <td>28789</td>\n",
       "      <td>6391</td>\n",
       "      <td>165264</td>\n",
       "    </tr>\n",
       "    <tr>\n",
       "      <th>All</th>\n",
       "      <td>192523</td>\n",
       "      <td>185188</td>\n",
       "      <td>189931</td>\n",
       "      <td>238761</td>\n",
       "      <td>98199</td>\n",
       "      <td>164600</td>\n",
       "      <td>188107</td>\n",
       "      <td>83646</td>\n",
       "      <td>309935</td>\n",
       "      <td>54519</td>\n",
       "      <td>117216</td>\n",
       "      <td>104944</td>\n",
       "      <td>175353</td>\n",
       "      <td>238690</td>\n",
       "      <td>99878</td>\n",
       "      <td>187188</td>\n",
       "      <td>46915</td>\n",
       "      <td>49360</td>\n",
       "      <td>2724953</td>\n",
       "    </tr>\n",
       "  </tbody>\n",
       "</table>\n",
       "</div>"
      ],
      "text/plain": [
       "activityID       1       2       3       4      5       6       7      9  \\\n",
       "subject                                                                    \n",
       "subject101   27187   23480   21717   22253  21265   23575   20265  83646   \n",
       "subject102   23430   22345   25576   32533   9238   25108   29739      0   \n",
       "subject103   22044   28761   20533   29036      0       0       0      0   \n",
       "subject104   23047   25492   24706   31932      1   22699   27533      0   \n",
       "subject105   23699   26864   22132   32033  24646   24577   26271      0   \n",
       "subject106   23340   23041   24356   25721  22825   20486   26686      0   \n",
       "subject107   25611   12282   25751   33720   3692   22680   28725      0   \n",
       "subject108   24165   22923   25160   31533  16532   25475   28888      0   \n",
       "subject109       0       0       0       0      0       0       0      0   \n",
       "All         192523  185188  189931  238761  98199  164600  188107  83646   \n",
       "\n",
       "activityID      10     11      12      13      16      17     18      19  \\\n",
       "subject                                                                    \n",
       "subject101       0  54519   15890   14899   22941   23573  27114   54089   \n",
       "subject102       0      0   17342   15213   20683   28880      0       0   \n",
       "subject103       0      0   10389   15275   20325   27975      0       0   \n",
       "subject104       0      0   16694   14285   20037   24995      0       0   \n",
       "subject105  110883      0   14281   12727   24445   33034      0   28488   \n",
       "subject106   61777      0   13291   11272   21078   37744  21786   28714   \n",
       "subject107       0      0   17646   11618   21552   29499      0       0   \n",
       "subject108   68725      0   11683    9655   24292   32990  23650   41691   \n",
       "subject109   68550      0       0       0       0       0  27328   34206   \n",
       "All         309935  54519  117216  104944  175353  238690  99878  187188   \n",
       "\n",
       "activityID     20     24      All  \n",
       "subject                            \n",
       "subject101      0  12912   469325  \n",
       "subject102      0  13262   263349  \n",
       "subject103      0      0   174338  \n",
       "subject104      0      0   231421  \n",
       "subject105      0   7733   411813  \n",
       "subject106      0    256   362373  \n",
       "subject107      0      0   232776  \n",
       "subject108  18126   8806   414294  \n",
       "subject109  28789   6391   165264  \n",
       "All         46915  49360  2724953  "
      ]
     },
     "execution_count": 23,
     "metadata": {},
     "output_type": "execute_result"
    }
   ],
   "source": [
    "pd.crosstab(df.subject,df.activityID, margins=True)"
   ]
  },
  {
   "cell_type": "code",
   "execution_count": 24,
   "metadata": {
    "scrolled": false
   },
   "outputs": [
    {
     "data": {
      "image/png": "[encoded data removed]",
      "text/plain": [
       "<matplotlib.figure.Figure at 0x1d18040bfd0>"
      ]
     },
     "metadata": {},
     "output_type": "display_data"
    }
   ],
   "source": [
    "ax = subject_activities.plot.bar(stacked=True, figsize=(15,8))\n",
    "ax.legend(loc='upper center', bbox_to_anchor=(1.05, 0.8), title=\"activityID\")\n",
    "plt.show()"
   ]
  },
  {
   "cell_type": "code",
   "execution_count": 25,
   "metadata": {},
   "outputs": [
    {
     "data": {
      "image/png": "[encoded data removed]",
      "text/plain": [
       "<matplotlib.figure.Figure at 0x1d180590f98>"
      ]
     },
     "metadata": {},
     "output_type": "display_data"
    }
   ],
   "source": [
    "ax = subject_activities.plot.bar(figsize=(15,8), width = 0.8)\n",
    "ax.legend(loc='upper center', bbox_to_anchor=(1.05, 0.8), title=\"activityID\")\n",
    "plt.show()"
   ]
  },
  {
   "cell_type": "markdown",
   "metadata": {},
   "source": [
    "### Identifying Missing Values"
   ]
  },
  {
   "cell_type": "markdown",
   "metadata": {},
   "source": [
    "We can use info() to get the number of entries of each column."
   ]
  },
  {
   "cell_type": "code",
   "execution_count": 26,
   "metadata": {},
   "outputs": [
    {
     "name": "stdout",
     "output_type": "stream",
     "text": [
      "<class 'pandas.core.frame.DataFrame'>\n",
      "RangeIndex: 2724953 entries, 0 to 2724952\n",
      "Data columns (total 55 columns):\n",
      "timestamp     2724953 non-null float64\n",
      "activityID    2724953 non-null int64\n",
      "heartrate     248827 non-null float64\n",
      "hand_1        2713085 non-null float64\n",
      "hand_2        2713085 non-null float64\n",
      "hand_3        2713085 non-null float64\n",
      "hand_4        2713085 non-null float64\n",
      "hand_5        2713085 non-null float64\n",
      "hand_6        2713085 non-null float64\n",
      "hand_7        2713085 non-null float64\n",
      "hand_8        2713085 non-null float64\n",
      "hand_9        2713085 non-null float64\n",
      "hand_10       2713085 non-null float64\n",
      "hand_11       2713085 non-null float64\n",
      "hand_12       2713085 non-null float64\n",
      "hand_13       2713085 non-null float64\n",
      "hand_14       2713085 non-null float64\n",
      "hand_15       2713085 non-null float64\n",
      "hand_16       2713085 non-null float64\n",
      "hand_17       2713085 non-null float64\n",
      "chest_1       2721895 non-null float64\n",
      "chest_2       2721895 non-null float64\n",
      "chest_3       2721895 non-null float64\n",
      "chest_4       2721895 non-null float64\n",
      "chest_5       2721895 non-null float64\n",
      "chest_6       2721895 non-null float64\n",
      "chest_7       2721895 non-null float64\n",
      "chest_8       2721895 non-null float64\n",
      "chest_9       2721895 non-null float64\n",
      "chest_10      2721895 non-null float64\n",
      "chest_11      2721895 non-null float64\n",
      "chest_12      2721895 non-null float64\n",
      "chest_13      2721895 non-null float64\n",
      "chest_14      2721895 non-null float64\n",
      "chest_15      2721895 non-null float64\n",
      "chest_16      2721895 non-null float64\n",
      "chest_17      2721895 non-null float64\n",
      "ankle_1       2715086 non-null float64\n",
      "ankle_2       2715086 non-null float64\n",
      "ankle_3       2715086 non-null float64\n",
      "ankle_4       2715086 non-null float64\n",
      "ankle_5       2715086 non-null float64\n",
      "ankle_6       2715086 non-null float64\n",
      "ankle_7       2715086 non-null float64\n",
      "ankle_8       2715086 non-null float64\n",
      "ankle_9       2715086 non-null float64\n",
      "ankle_10      2715086 non-null float64\n",
      "ankle_11      2715086 non-null float64\n",
      "ankle_12      2715086 non-null float64\n",
      "ankle_13      2715086 non-null float64\n",
      "ankle_14      2715086 non-null float64\n",
      "ankle_15      2715086 non-null float64\n",
      "ankle_16      2715086 non-null float64\n",
      "ankle_17      2715086 non-null float64\n",
      "subject       2724953 non-null object\n",
      "dtypes: float64(53), int64(1), object(1)\n",
      "memory usage: 1.1+ GB\n"
     ]
    }
   ],
   "source": [
    "df.info(verbose=True, null_counts=True)"
   ]
  },
  {
   "cell_type": "markdown",
   "metadata": {},
   "source": [
    "We can see that a lot of columns have values missing. We can identify null or NaN values by isnull(). \n",
    "\n",
    "Following line of code tells us total of NaN values for each column. "
   ]
  },
  {
   "cell_type": "code",
   "execution_count": 27,
   "metadata": {},
   "outputs": [
    {
     "data": {
      "text/plain": [
       "timestamp           0\n",
       "activityID          0\n",
       "heartrate     2476126\n",
       "hand_1          11868\n",
       "hand_2          11868\n",
       "hand_3          11868\n",
       "hand_4          11868\n",
       "hand_5          11868\n",
       "hand_6          11868\n",
       "hand_7          11868\n",
       "hand_8          11868\n",
       "hand_9          11868\n",
       "hand_10         11868\n",
       "hand_11         11868\n",
       "hand_12         11868\n",
       "hand_13         11868\n",
       "hand_14         11868\n",
       "hand_15         11868\n",
       "hand_16         11868\n",
       "hand_17         11868\n",
       "chest_1          3058\n",
       "chest_2          3058\n",
       "chest_3          3058\n",
       "chest_4          3058\n",
       "chest_5          3058\n",
       "chest_6          3058\n",
       "chest_7          3058\n",
       "chest_8          3058\n",
       "chest_9          3058\n",
       "chest_10         3058\n",
       "chest_11         3058\n",
       "chest_12         3058\n",
       "chest_13         3058\n",
       "chest_14         3058\n",
       "chest_15         3058\n",
       "chest_16         3058\n",
       "chest_17         3058\n",
       "ankle_1          9867\n",
       "ankle_2          9867\n",
       "ankle_3          9867\n",
       "ankle_4          9867\n",
       "ankle_5          9867\n",
       "ankle_6          9867\n",
       "ankle_7          9867\n",
       "ankle_8          9867\n",
       "ankle_9          9867\n",
       "ankle_10         9867\n",
       "ankle_11         9867\n",
       "ankle_12         9867\n",
       "ankle_13         9867\n",
       "ankle_14         9867\n",
       "ankle_15         9867\n",
       "ankle_16         9867\n",
       "ankle_17         9867\n",
       "subject             0\n",
       "dtype: int64"
      ]
     },
     "execution_count": 27,
     "metadata": {},
     "output_type": "execute_result"
    }
   ],
   "source": [
    "df.isnull().sum()"
   ]
  },
  {
   "cell_type": "markdown",
   "metadata": {},
   "source": [
    "#### Handling Missing Values"
   ]
  },
  {
   "cell_type": "markdown",
   "metadata": {},
   "source": [
    "Depending on how we decide to handle missing values in the dataset, following are some methods. But, one should be careful about how we handle missing value; replacing with 0 or dropping the row will change the mean or median/frequency or any of the feature ratings. "
   ]
  },
  {
   "cell_type": "code",
   "execution_count": 28,
   "metadata": {},
   "outputs": [],
   "source": [
    "#df = df.fillna(0) # replaces NaN values with 0 or some other specified value\n",
    "#df.dropna(how='any') #drop row if any of the column values is missing. \n",
    "#df.dropna(how='all') #drop the row if all column values are missing\n",
    "\n",
    "# drop row if any/all column specified are missing\n",
    "#df.dropna(subset=['',''], how='any').shape"
   ]
  },
  {
   "cell_type": "markdown",
   "metadata": {},
   "source": [
    "### Identifying Outliers"
   ]
  },
  {
   "cell_type": "markdown",
   "metadata": {},
   "source": [
    "We can visualize using boxplot to check for the ouliers. We will first split the df into Dataframe dictionary based on the subjects. \n",
    "\n",
    "Readings for different subjects could be different, so we will check for outliers for each subject separately. "
   ]
  },
  {
   "cell_type": "code",
   "execution_count": 29,
   "metadata": {},
   "outputs": [],
   "source": [
    "subjectDict = {elem : pd.DataFrame for elem in df.subject.unique()}\n",
    "for key in subjectDict.keys():\n",
    "    subjectDict[key] = df.loc[:, :'ankle_17'][df.subject == key]"
   ]
  },
  {
   "cell_type": "markdown",
   "metadata": {},
   "source": [
    "There are different ways to identify and remove outliers. IQR is said to be one of the most used and robust ways to detect outliers. So thats what we are using. IQR uses percentiles. Usually 25 and 75th percentile is used. But through trial we have seen that it will cut off a lot of data, hence, we are using 5th and 95th percentile. "
   ]
  },
  {
   "cell_type": "code",
   "execution_count": 30,
   "metadata": {},
   "outputs": [],
   "source": [
    "def iqr_outliers(df):\n",
    "    Q1 = df.quantile(0.05)\n",
    "    Q3 = df.quantile(0.95)\n",
    "    IQR = Q3 - Q1\n",
    "    cut_off = IQR * 1.5\n",
    "    lower, upper = Q1 - cut_off, Q3 + cut_off\n",
    "    return(df[((df < lower) |(df > upper)).any(axis=1)])\n",
    "\n",
    "def remove_iqr_outliers(df):\n",
    "    Q1 = df.quantile(0.05)\n",
    "    Q3 = df.quantile(0.95)\n",
    "    IQR = Q3 - Q1    \n",
    "    return(df[~((df < (Q1 - 1.5 * IQR)) |(df > (Q3 + 1.5 * IQR))).any(axis=1)])"
   ]
  },
  {
   "cell_type": "code",
   "execution_count": 31,
   "metadata": {},
   "outputs": [
    {
     "name": "stdout",
     "output_type": "stream",
     "text": [
      "Identified outliers for subject 101: 17454\n"
     ]
    }
   ],
   "source": [
    "subject101 = subjectDict['subject101']\n",
    "print('Identified outliers for subject 101: %d' % len(iqr_outliers(subject101)))"
   ]
  },
  {
   "cell_type": "code",
   "execution_count": 32,
   "metadata": {},
   "outputs": [
    {
     "data": {
      "text/plain": [
       "(451871, 54)"
      ]
     },
     "execution_count": 32,
     "metadata": {},
     "output_type": "execute_result"
    }
   ],
   "source": [
    "subject101_out = remove_iqr_outliers(subject101)\n",
    "subject101_out.shape"
   ]
  },
  {
   "cell_type": "code",
   "execution_count": 33,
   "metadata": {},
   "outputs": [
    {
     "data": {
      "text/plain": [
       "<matplotlib.figure.Figure at 0x1d18090c630>"
      ]
     },
     "metadata": {},
     "output_type": "display_data"
    },
    {
     "data": {
      "image/png": "[encoded data removed]",
      "text/plain": [
       "<matplotlib.figure.Figure at 0x1d180915fd0>"
      ]
     },
     "metadata": {},
     "output_type": "display_data"
    },
    {
     "data": {
      "image/png": "[encoded data removed]",
      "text/plain": [
       "<matplotlib.figure.Figure at 0x1d1878fb780>"
      ]
     },
     "metadata": {},
     "output_type": "display_data"
    }
   ],
   "source": [
    "## Visualizing outliers for heart rate \n",
    "\n",
    "\n",
    "plt.figure(1)\n",
    "df.boxplot(column = ['heartrate'], figsize=(15,8), by = ['activityID']);\n",
    "plt.title(\"Subject101 : Heart rate (with outliers)\")\n",
    "plt.suptitle('')\n",
    "#plt.show()\n",
    "\n",
    "plt.figure(2)\n",
    "subject101_out.boxplot(column = ['heartrate'], figsize=(15,8), by = ['activityID']);\n",
    "plt.title(\"Subject101 : Heart rate (outliers removed)\")\n",
    "plt.suptitle('')\n",
    "\n",
    "plt.show()"
   ]
  },
  {
   "cell_type": "markdown",
   "metadata": {},
   "source": [
    "We can see from both the plots that there is some difference between the outliers. Further we can also change the range or method for outlier detection.\n",
    "\n",
    "But in most cases we have to consider if to remove outlier or not, because the supposed outlier value could denote some significant meaning in the dataset. \n",
    "\n",
    "Similar to mple we can visualize any of the features of any subject, and, if so we choose, remove the outliers."
   ]
  }
 ],
 "metadata": {
  "kernelspec": {
   "display_name": "Python 3",
   "language": "python",
   "name": "python3"
  },
  "language_info": {
   "codemirror_mode": {
    "name": "ipython",
    "version": 3
   },
   "file_extension": ".py",
   "mimetype": "text/x-python",
   "name": "python",
   "nbconvert_exporter": "python",
   "pygments_lexer": "ipython3",
   "version": "3.6.1"
  }
 },
 "nbformat": 4,
 "nbformat_minor": 2
}
