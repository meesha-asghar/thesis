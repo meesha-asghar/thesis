{
 "cells": [
  {
   "cell_type": "markdown",
   "metadata": {},
   "source": [
    "# Exploring the PAMAP2 Physical Activity Monitoring Dataset"
   ]
  },
  {
   "cell_type": "markdown",
   "metadata": {},
   "source": [
    "We know from dataset describtion that it is divided into 2 sub-folders: Protocol and Optional."
   ]
  },
  {
   "cell_type": "markdown",
   "metadata": {},
   "source": [
    "## Protocol"
   ]
  },
  {
   "cell_type": "code",
   "execution_count": 1,
   "metadata": {
    "collapsed": true
   },
   "outputs": [],
   "source": [
    "import pandas as pd\n",
    "import glob\n",
    "import os"
   ]
  },
  {
   "cell_type": "code",
   "execution_count": 2,
   "metadata": {},
   "outputs": [],
   "source": [
    "path = r'C:\\Users\\meesh\\Desktop\\PAMAP2 Physical Activity Monitoring Data Set\\PAMAP2_Dataset\\Protocol' \n",
    "all_files = glob.glob(os.path.join(path, \"*.dat\"))\n",
    "\n",
    "df_from_each_file = (pd.read_csv(f,header=None, delimiter=r\"\\s+\").assign(subject = os.path.splitext(os.path.basename(f))[0]) for f in all_files)\n",
    "protocol_df   = pd.concat(df_from_each_file, ignore_index=True)"
   ]
  },
  {
   "cell_type": "markdown",
   "metadata": {},
   "source": [
    "The first thing we will check is the size of our dataset. Shape tells us about the rows and columns of dataframe"
   ]
  },
  {
   "cell_type": "code",
   "execution_count": 3,
   "metadata": {},
   "outputs": [
    {
     "data": {
      "text/plain": [
       "(2872533, 55)"
      ]
     },
     "execution_count": 3,
     "metadata": {},
     "output_type": "execute_result"
    }
   ],
   "source": [
    "protocol_df.shape"
   ]
  },
  {
   "cell_type": "markdown",
   "metadata": {},
   "source": [
    "We can use info() to get the number of entries of each column."
   ]
  },
  {
   "cell_type": "code",
   "execution_count": 4,
   "metadata": {},
   "outputs": [
    {
     "name": "stdout",
     "output_type": "stream",
     "text": [
      "<class 'pandas.core.frame.DataFrame'>\n",
      "RangeIndex: 2872533 entries, 0 to 2872532\n",
      "Data columns (total 55 columns):\n",
      "0          float64\n",
      "1          int64\n",
      "2          float64\n",
      "3          float64\n",
      "4          float64\n",
      "5          float64\n",
      "6          float64\n",
      "7          float64\n",
      "8          float64\n",
      "9          float64\n",
      "10         float64\n",
      "11         float64\n",
      "12         float64\n",
      "13         float64\n",
      "14         float64\n",
      "15         float64\n",
      "16         float64\n",
      "17         float64\n",
      "18         float64\n",
      "19         float64\n",
      "20         float64\n",
      "21         float64\n",
      "22         float64\n",
      "23         float64\n",
      "24         float64\n",
      "25         float64\n",
      "26         float64\n",
      "27         float64\n",
      "28         float64\n",
      "29         float64\n",
      "30         float64\n",
      "31         float64\n",
      "32         float64\n",
      "33         float64\n",
      "34         float64\n",
      "35         float64\n",
      "36         float64\n",
      "37         float64\n",
      "38         float64\n",
      "39         float64\n",
      "40         float64\n",
      "41         float64\n",
      "42         float64\n",
      "43         float64\n",
      "44         float64\n",
      "45         float64\n",
      "46         float64\n",
      "47         float64\n",
      "48         float64\n",
      "49         float64\n",
      "50         float64\n",
      "51         float64\n",
      "52         float64\n",
      "53         float64\n",
      "subject    object\n",
      "dtypes: float64(53), int64(1), object(1)\n",
      "memory usage: 1.2+ GB\n"
     ]
    }
   ],
   "source": [
    "protocol_df.info()"
   ]
  },
  {
   "cell_type": "code",
   "execution_count": 5,
   "metadata": {},
   "outputs": [],
   "source": [
    "hand_lst = []\n",
    "chest_lst = []\n",
    "ankle_lst = []\n",
    "for i in range(17):\n",
    "    hand_lst.append('hand_'+str(i+1))\n",
    "for i in range(17):\n",
    "    chest_lst.append('chest_'+str(i+1))\n",
    "for i in range(17):\n",
    "    ankle_lst.append('ankle_'+str(i+1))\n",
    "      \n",
    "df_columns = ['timestamp','activityID','heartrate'] + hand_lst + chest_lst + ankle_lst + ['subject']"
   ]
  },
  {
   "cell_type": "code",
   "execution_count": 6,
   "metadata": {
    "collapsed": true
   },
   "outputs": [],
   "source": [
    "protocol_df.columns = df_columns"
   ]
  },
  {
   "cell_type": "code",
   "execution_count": 7,
   "metadata": {
    "scrolled": true
   },
   "outputs": [
    {
     "data": {
      "text/html": [
       "<div>\n",
       "<style>\n",
       "    .dataframe thead tr:only-child th {\n",
       "        text-align: right;\n",
       "    }\n",
       "\n",
       "    .dataframe thead th {\n",
       "        text-align: left;\n",
       "    }\n",
       "\n",
       "    .dataframe tbody tr th {\n",
       "        vertical-align: top;\n",
       "    }\n",
       "</style>\n",
       "<table border=\"1\" class=\"dataframe\">\n",
       "  <thead>\n",
       "    <tr style=\"text-align: right;\">\n",
       "      <th></th>\n",
       "      <th>timestamp</th>\n",
       "      <th>activityID</th>\n",
       "      <th>heartrate</th>\n",
       "      <th>hand_1</th>\n",
       "      <th>hand_2</th>\n",
       "      <th>hand_3</th>\n",
       "      <th>hand_4</th>\n",
       "      <th>hand_5</th>\n",
       "      <th>hand_6</th>\n",
       "      <th>hand_7</th>\n",
       "      <th>...</th>\n",
       "      <th>ankle_9</th>\n",
       "      <th>ankle_10</th>\n",
       "      <th>ankle_11</th>\n",
       "      <th>ankle_12</th>\n",
       "      <th>ankle_13</th>\n",
       "      <th>ankle_14</th>\n",
       "      <th>ankle_15</th>\n",
       "      <th>ankle_16</th>\n",
       "      <th>ankle_17</th>\n",
       "      <th>subject</th>\n",
       "    </tr>\n",
       "  </thead>\n",
       "  <tbody>\n",
       "    <tr>\n",
       "      <th>0</th>\n",
       "      <td>8.38</td>\n",
       "      <td>0</td>\n",
       "      <td>104.0</td>\n",
       "      <td>30.0</td>\n",
       "      <td>2.37223</td>\n",
       "      <td>8.60074</td>\n",
       "      <td>3.51048</td>\n",
       "      <td>2.43954</td>\n",
       "      <td>8.76165</td>\n",
       "      <td>3.35465</td>\n",
       "      <td>...</td>\n",
       "      <td>0.009250</td>\n",
       "      <td>-0.017580</td>\n",
       "      <td>-61.1888</td>\n",
       "      <td>-38.9599</td>\n",
       "      <td>-58.1438</td>\n",
       "      <td>1.0</td>\n",
       "      <td>0.0</td>\n",
       "      <td>0.0</td>\n",
       "      <td>0.0</td>\n",
       "      <td>subject101</td>\n",
       "    </tr>\n",
       "    <tr>\n",
       "      <th>1</th>\n",
       "      <td>8.39</td>\n",
       "      <td>0</td>\n",
       "      <td>NaN</td>\n",
       "      <td>30.0</td>\n",
       "      <td>2.18837</td>\n",
       "      <td>8.56560</td>\n",
       "      <td>3.66179</td>\n",
       "      <td>2.39494</td>\n",
       "      <td>8.55081</td>\n",
       "      <td>3.64207</td>\n",
       "      <td>...</td>\n",
       "      <td>-0.004638</td>\n",
       "      <td>0.000368</td>\n",
       "      <td>-59.8479</td>\n",
       "      <td>-38.8919</td>\n",
       "      <td>-58.5253</td>\n",
       "      <td>1.0</td>\n",
       "      <td>0.0</td>\n",
       "      <td>0.0</td>\n",
       "      <td>0.0</td>\n",
       "      <td>subject101</td>\n",
       "    </tr>\n",
       "    <tr>\n",
       "      <th>2</th>\n",
       "      <td>8.40</td>\n",
       "      <td>0</td>\n",
       "      <td>NaN</td>\n",
       "      <td>30.0</td>\n",
       "      <td>2.37357</td>\n",
       "      <td>8.60107</td>\n",
       "      <td>3.54898</td>\n",
       "      <td>2.30514</td>\n",
       "      <td>8.53644</td>\n",
       "      <td>3.73280</td>\n",
       "      <td>...</td>\n",
       "      <td>0.000148</td>\n",
       "      <td>0.022495</td>\n",
       "      <td>-60.7361</td>\n",
       "      <td>-39.4138</td>\n",
       "      <td>-58.3999</td>\n",
       "      <td>1.0</td>\n",
       "      <td>0.0</td>\n",
       "      <td>0.0</td>\n",
       "      <td>0.0</td>\n",
       "      <td>subject101</td>\n",
       "    </tr>\n",
       "    <tr>\n",
       "      <th>3</th>\n",
       "      <td>8.41</td>\n",
       "      <td>0</td>\n",
       "      <td>NaN</td>\n",
       "      <td>30.0</td>\n",
       "      <td>2.07473</td>\n",
       "      <td>8.52853</td>\n",
       "      <td>3.66021</td>\n",
       "      <td>2.33528</td>\n",
       "      <td>8.53622</td>\n",
       "      <td>3.73277</td>\n",
       "      <td>...</td>\n",
       "      <td>-0.020301</td>\n",
       "      <td>0.011275</td>\n",
       "      <td>-60.4091</td>\n",
       "      <td>-38.7635</td>\n",
       "      <td>-58.3956</td>\n",
       "      <td>1.0</td>\n",
       "      <td>0.0</td>\n",
       "      <td>0.0</td>\n",
       "      <td>0.0</td>\n",
       "      <td>subject101</td>\n",
       "    </tr>\n",
       "    <tr>\n",
       "      <th>4</th>\n",
       "      <td>8.42</td>\n",
       "      <td>0</td>\n",
       "      <td>NaN</td>\n",
       "      <td>30.0</td>\n",
       "      <td>2.22936</td>\n",
       "      <td>8.83122</td>\n",
       "      <td>3.70000</td>\n",
       "      <td>2.23055</td>\n",
       "      <td>8.59741</td>\n",
       "      <td>3.76295</td>\n",
       "      <td>...</td>\n",
       "      <td>-0.014303</td>\n",
       "      <td>-0.002823</td>\n",
       "      <td>-61.5199</td>\n",
       "      <td>-39.3879</td>\n",
       "      <td>-58.2694</td>\n",
       "      <td>1.0</td>\n",
       "      <td>0.0</td>\n",
       "      <td>0.0</td>\n",
       "      <td>0.0</td>\n",
       "      <td>subject101</td>\n",
       "    </tr>\n",
       "  </tbody>\n",
       "</table>\n",
       "<p>5 rows × 55 columns</p>\n",
       "</div>"
      ],
      "text/plain": [
       "   timestamp  activityID  heartrate  hand_1   hand_2   hand_3   hand_4  \\\n",
       "0       8.38           0      104.0    30.0  2.37223  8.60074  3.51048   \n",
       "1       8.39           0        NaN    30.0  2.18837  8.56560  3.66179   \n",
       "2       8.40           0        NaN    30.0  2.37357  8.60107  3.54898   \n",
       "3       8.41           0        NaN    30.0  2.07473  8.52853  3.66021   \n",
       "4       8.42           0        NaN    30.0  2.22936  8.83122  3.70000   \n",
       "\n",
       "    hand_5   hand_6   hand_7     ...       ankle_9  ankle_10  ankle_11  \\\n",
       "0  2.43954  8.76165  3.35465     ...      0.009250 -0.017580  -61.1888   \n",
       "1  2.39494  8.55081  3.64207     ...     -0.004638  0.000368  -59.8479   \n",
       "2  2.30514  8.53644  3.73280     ...      0.000148  0.022495  -60.7361   \n",
       "3  2.33528  8.53622  3.73277     ...     -0.020301  0.011275  -60.4091   \n",
       "4  2.23055  8.59741  3.76295     ...     -0.014303 -0.002823  -61.5199   \n",
       "\n",
       "   ankle_12  ankle_13  ankle_14  ankle_15  ankle_16  ankle_17     subject  \n",
       "0  -38.9599  -58.1438       1.0       0.0       0.0       0.0  subject101  \n",
       "1  -38.8919  -58.5253       1.0       0.0       0.0       0.0  subject101  \n",
       "2  -39.4138  -58.3999       1.0       0.0       0.0       0.0  subject101  \n",
       "3  -38.7635  -58.3956       1.0       0.0       0.0       0.0  subject101  \n",
       "4  -39.3879  -58.2694       1.0       0.0       0.0       0.0  subject101  \n",
       "\n",
       "[5 rows x 55 columns]"
      ]
     },
     "execution_count": 7,
     "metadata": {},
     "output_type": "execute_result"
    }
   ],
   "source": [
    "protocol_df.head()"
   ]
  },
  {
   "cell_type": "code",
   "execution_count": 9,
   "metadata": {},
   "outputs": [
    {
     "data": {
      "text/plain": [
       "0     929661\n",
       "4     238761\n",
       "17    238690\n",
       "1     192523\n",
       "3     189931\n",
       "7     188107\n",
       "2     185188\n",
       "16    175353\n",
       "6     164600\n",
       "12    117216\n",
       "13    104944\n",
       "5      98199\n",
       "24     49360\n",
       "Name: activityID, dtype: int64"
      ]
     },
     "execution_count": 9,
     "metadata": {},
     "output_type": "execute_result"
    }
   ],
   "source": [
    "protocol_df['activityID'].value_counts()"
   ]
  },
  {
   "cell_type": "markdown",
   "metadata": {},
   "source": [
    "We know from the describtion that activityID = 0 is transient and should be discarded. We have 929661 values that should be discarded"
   ]
  },
  {
   "cell_type": "code",
   "execution_count": 10,
   "metadata": {
    "collapsed": true
   },
   "outputs": [],
   "source": [
    "protocol_df = protocol_df[protocol_df.activityID != 0]"
   ]
  },
  {
   "cell_type": "code",
   "execution_count": 11,
   "metadata": {},
   "outputs": [
    {
     "data": {
      "text/plain": [
       "1942872"
      ]
     },
     "execution_count": 11,
     "metadata": {},
     "output_type": "execute_result"
    }
   ],
   "source": [
    "len(protocol_df)"
   ]
  },
  {
   "cell_type": "markdown",
   "metadata": {},
   "source": [
    "To know how many data we have per test subject we can use groupby()"
   ]
  },
  {
   "cell_type": "code",
   "execution_count": 23,
   "metadata": {},
   "outputs": [
    {
     "data": {
      "text/plain": [
       "subject\n",
       "subject101    249957\n",
       "subject102    263349\n",
       "subject103    174338\n",
       "subject104    231421\n",
       "subject105    272442\n",
       "subject106    250096\n",
       "subject107    232776\n",
       "subject108    262102\n",
       "subject109      6391\n",
       "Name: subject, dtype: int64"
      ]
     },
     "execution_count": 23,
     "metadata": {},
     "output_type": "execute_result"
    }
   ],
   "source": [
    "gp_by_subject = protocol_df.groupby(['subject'])\n",
    "gp_by_subject['subject'].count()"
   ]
  },
  {
   "cell_type": "markdown",
   "metadata": {},
   "source": [
    "## Optional"
   ]
  },
  {
   "cell_type": "code",
   "execution_count": 12,
   "metadata": {
    "collapsed": true
   },
   "outputs": [],
   "source": [
    "path2 = r'C:\\Users\\meesh\\Desktop\\PAMAP2 Physical Activity Monitoring Data Set\\PAMAP2_Dataset\\Optional' \n",
    "all_files2 = glob.glob(os.path.join(path2, \"*.dat\"))\n",
    "\n",
    "df_from_each_file2 = (pd.read_csv(f,header=None, delimiter=r\"\\s+\").assign(subject = os.path.splitext(os.path.basename(f))[0]) for f in all_files2)\n",
    "optional_df   = pd.concat(df_from_each_file2, ignore_index=True)"
   ]
  },
  {
   "cell_type": "code",
   "execution_count": 13,
   "metadata": {},
   "outputs": [
    {
     "name": "stdout",
     "output_type": "stream",
     "text": [
      "<class 'pandas.core.frame.DataFrame'>\n",
      "RangeIndex: 977972 entries, 0 to 977971\n",
      "Data columns (total 55 columns):\n",
      "0          977972 non-null float64\n",
      "1          977972 non-null int64\n",
      "2          89285 non-null float64\n",
      "3          976775 non-null float64\n",
      "4          976775 non-null float64\n",
      "5          976775 non-null float64\n",
      "6          976775 non-null float64\n",
      "7          976775 non-null float64\n",
      "8          976775 non-null float64\n",
      "9          976775 non-null float64\n",
      "10         976775 non-null float64\n",
      "11         976775 non-null float64\n",
      "12         976775 non-null float64\n",
      "13         976775 non-null float64\n",
      "14         976775 non-null float64\n",
      "15         976775 non-null float64\n",
      "16         976775 non-null float64\n",
      "17         976775 non-null float64\n",
      "18         976775 non-null float64\n",
      "19         976775 non-null float64\n",
      "20         977225 non-null float64\n",
      "21         977225 non-null float64\n",
      "22         977225 non-null float64\n",
      "23         977225 non-null float64\n",
      "24         977225 non-null float64\n",
      "25         977225 non-null float64\n",
      "26         977225 non-null float64\n",
      "27         977225 non-null float64\n",
      "28         977225 non-null float64\n",
      "29         977225 non-null float64\n",
      "30         977225 non-null float64\n",
      "31         977225 non-null float64\n",
      "32         977225 non-null float64\n",
      "33         977225 non-null float64\n",
      "34         977225 non-null float64\n",
      "35         977225 non-null float64\n",
      "36         977225 non-null float64\n",
      "37         976165 non-null float64\n",
      "38         976165 non-null float64\n",
      "39         976165 non-null float64\n",
      "40         976165 non-null float64\n",
      "41         976165 non-null float64\n",
      "42         976165 non-null float64\n",
      "43         976165 non-null float64\n",
      "44         976165 non-null float64\n",
      "45         976165 non-null float64\n",
      "46         976165 non-null float64\n",
      "47         976165 non-null float64\n",
      "48         976165 non-null float64\n",
      "49         976165 non-null float64\n",
      "50         976165 non-null float64\n",
      "51         976165 non-null float64\n",
      "52         976165 non-null float64\n",
      "53         976165 non-null float64\n",
      "subject    977972 non-null object\n",
      "dtypes: float64(53), int64(1), object(1)\n",
      "memory usage: 410.4+ MB\n"
     ]
    }
   ],
   "source": [
    "optional_df.info()"
   ]
  },
  {
   "cell_type": "markdown",
   "metadata": {},
   "source": [
    "We can see that some of the data is missing. Many columns contain values less than 977972. "
   ]
  },
  {
   "cell_type": "code",
   "execution_count": 14,
   "metadata": {},
   "outputs": [
    {
     "data": {
      "text/plain": [
       "(977972, 55)"
      ]
     },
     "execution_count": 14,
     "metadata": {},
     "output_type": "execute_result"
    }
   ],
   "source": [
    "optional_df.shape"
   ]
  },
  {
   "cell_type": "code",
   "execution_count": 15,
   "metadata": {
    "collapsed": true
   },
   "outputs": [],
   "source": [
    "optional_df.columns = df_columns"
   ]
  },
  {
   "cell_type": "code",
   "execution_count": 16,
   "metadata": {},
   "outputs": [
    {
     "data": {
      "text/html": [
       "<div>\n",
       "<style>\n",
       "    .dataframe thead tr:only-child th {\n",
       "        text-align: right;\n",
       "    }\n",
       "\n",
       "    .dataframe thead th {\n",
       "        text-align: left;\n",
       "    }\n",
       "\n",
       "    .dataframe tbody tr th {\n",
       "        vertical-align: top;\n",
       "    }\n",
       "</style>\n",
       "<table border=\"1\" class=\"dataframe\">\n",
       "  <thead>\n",
       "    <tr style=\"text-align: right;\">\n",
       "      <th></th>\n",
       "      <th>timestamp</th>\n",
       "      <th>activityID</th>\n",
       "      <th>heartrate</th>\n",
       "      <th>hand_1</th>\n",
       "      <th>hand_2</th>\n",
       "      <th>hand_3</th>\n",
       "      <th>hand_4</th>\n",
       "      <th>hand_5</th>\n",
       "      <th>hand_6</th>\n",
       "      <th>hand_7</th>\n",
       "      <th>...</th>\n",
       "      <th>ankle_9</th>\n",
       "      <th>ankle_10</th>\n",
       "      <th>ankle_11</th>\n",
       "      <th>ankle_12</th>\n",
       "      <th>ankle_13</th>\n",
       "      <th>ankle_14</th>\n",
       "      <th>ankle_15</th>\n",
       "      <th>ankle_16</th>\n",
       "      <th>ankle_17</th>\n",
       "      <th>subject</th>\n",
       "    </tr>\n",
       "  </thead>\n",
       "  <tbody>\n",
       "    <tr>\n",
       "      <th>0</th>\n",
       "      <td>10.03</td>\n",
       "      <td>0</td>\n",
       "      <td>105.0</td>\n",
       "      <td>33.3125</td>\n",
       "      <td>1.99964</td>\n",
       "      <td>6.94837</td>\n",
       "      <td>5.08845</td>\n",
       "      <td>2.62244</td>\n",
       "      <td>7.73457</td>\n",
       "      <td>4.64028</td>\n",
       "      <td>...</td>\n",
       "      <td>0.009471</td>\n",
       "      <td>0.003633</td>\n",
       "      <td>-43.8463</td>\n",
       "      <td>-2.97306</td>\n",
       "      <td>45.0822</td>\n",
       "      <td>1.0</td>\n",
       "      <td>0.0</td>\n",
       "      <td>0.0</td>\n",
       "      <td>0.0</td>\n",
       "      <td>subject101</td>\n",
       "    </tr>\n",
       "    <tr>\n",
       "      <th>1</th>\n",
       "      <td>10.04</td>\n",
       "      <td>0</td>\n",
       "      <td>NaN</td>\n",
       "      <td>33.3125</td>\n",
       "      <td>1.80990</td>\n",
       "      <td>6.45729</td>\n",
       "      <td>5.16424</td>\n",
       "      <td>2.19725</td>\n",
       "      <td>6.93762</td>\n",
       "      <td>5.06528</td>\n",
       "      <td>...</td>\n",
       "      <td>0.070031</td>\n",
       "      <td>0.001804</td>\n",
       "      <td>-43.8385</td>\n",
       "      <td>-2.55481</td>\n",
       "      <td>46.8195</td>\n",
       "      <td>1.0</td>\n",
       "      <td>0.0</td>\n",
       "      <td>0.0</td>\n",
       "      <td>0.0</td>\n",
       "      <td>subject101</td>\n",
       "    </tr>\n",
       "    <tr>\n",
       "      <th>2</th>\n",
       "      <td>10.05</td>\n",
       "      <td>0</td>\n",
       "      <td>NaN</td>\n",
       "      <td>33.3125</td>\n",
       "      <td>1.82756</td>\n",
       "      <td>5.93151</td>\n",
       "      <td>5.78208</td>\n",
       "      <td>2.01408</td>\n",
       "      <td>6.28989</td>\n",
       "      <td>5.44441</td>\n",
       "      <td>...</td>\n",
       "      <td>-0.002170</td>\n",
       "      <td>0.012096</td>\n",
       "      <td>-43.6100</td>\n",
       "      <td>-3.00084</td>\n",
       "      <td>46.5653</td>\n",
       "      <td>1.0</td>\n",
       "      <td>0.0</td>\n",
       "      <td>0.0</td>\n",
       "      <td>0.0</td>\n",
       "      <td>subject101</td>\n",
       "    </tr>\n",
       "    <tr>\n",
       "      <th>3</th>\n",
       "      <td>10.06</td>\n",
       "      <td>0</td>\n",
       "      <td>NaN</td>\n",
       "      <td>33.3125</td>\n",
       "      <td>1.75760</td>\n",
       "      <td>5.78202</td>\n",
       "      <td>5.97397</td>\n",
       "      <td>1.83344</td>\n",
       "      <td>5.83858</td>\n",
       "      <td>5.92881</td>\n",
       "      <td>...</td>\n",
       "      <td>-0.008545</td>\n",
       "      <td>0.007356</td>\n",
       "      <td>-43.5199</td>\n",
       "      <td>-1.99822</td>\n",
       "      <td>45.5850</td>\n",
       "      <td>1.0</td>\n",
       "      <td>0.0</td>\n",
       "      <td>0.0</td>\n",
       "      <td>0.0</td>\n",
       "      <td>subject101</td>\n",
       "    </tr>\n",
       "    <tr>\n",
       "      <th>4</th>\n",
       "      <td>10.07</td>\n",
       "      <td>0</td>\n",
       "      <td>NaN</td>\n",
       "      <td>33.3125</td>\n",
       "      <td>1.50670</td>\n",
       "      <td>6.20407</td>\n",
       "      <td>6.27669</td>\n",
       "      <td>1.71564</td>\n",
       "      <td>5.82465</td>\n",
       "      <td>6.27627</td>\n",
       "      <td>...</td>\n",
       "      <td>0.036445</td>\n",
       "      <td>-0.004679</td>\n",
       "      <td>-43.6258</td>\n",
       "      <td>-2.43575</td>\n",
       "      <td>45.5812</td>\n",
       "      <td>1.0</td>\n",
       "      <td>0.0</td>\n",
       "      <td>0.0</td>\n",
       "      <td>0.0</td>\n",
       "      <td>subject101</td>\n",
       "    </tr>\n",
       "  </tbody>\n",
       "</table>\n",
       "<p>5 rows × 55 columns</p>\n",
       "</div>"
      ],
      "text/plain": [
       "   timestamp  activityID  heartrate   hand_1   hand_2   hand_3   hand_4  \\\n",
       "0      10.03           0      105.0  33.3125  1.99964  6.94837  5.08845   \n",
       "1      10.04           0        NaN  33.3125  1.80990  6.45729  5.16424   \n",
       "2      10.05           0        NaN  33.3125  1.82756  5.93151  5.78208   \n",
       "3      10.06           0        NaN  33.3125  1.75760  5.78202  5.97397   \n",
       "4      10.07           0        NaN  33.3125  1.50670  6.20407  6.27669   \n",
       "\n",
       "    hand_5   hand_6   hand_7     ...       ankle_9  ankle_10  ankle_11  \\\n",
       "0  2.62244  7.73457  4.64028     ...      0.009471  0.003633  -43.8463   \n",
       "1  2.19725  6.93762  5.06528     ...      0.070031  0.001804  -43.8385   \n",
       "2  2.01408  6.28989  5.44441     ...     -0.002170  0.012096  -43.6100   \n",
       "3  1.83344  5.83858  5.92881     ...     -0.008545  0.007356  -43.5199   \n",
       "4  1.71564  5.82465  6.27627     ...      0.036445 -0.004679  -43.6258   \n",
       "\n",
       "   ankle_12  ankle_13  ankle_14  ankle_15  ankle_16  ankle_17     subject  \n",
       "0  -2.97306   45.0822       1.0       0.0       0.0       0.0  subject101  \n",
       "1  -2.55481   46.8195       1.0       0.0       0.0       0.0  subject101  \n",
       "2  -3.00084   46.5653       1.0       0.0       0.0       0.0  subject101  \n",
       "3  -1.99822   45.5850       1.0       0.0       0.0       0.0  subject101  \n",
       "4  -2.43575   45.5812       1.0       0.0       0.0       0.0  subject101  \n",
       "\n",
       "[5 rows x 55 columns]"
      ]
     },
     "execution_count": 16,
     "metadata": {},
     "output_type": "execute_result"
    }
   ],
   "source": [
    "optional_df.head()"
   ]
  },
  {
   "cell_type": "markdown",
   "metadata": {},
   "source": [
    "Removing activityID = 0"
   ]
  },
  {
   "cell_type": "code",
   "execution_count": 17,
   "metadata": {
    "collapsed": true
   },
   "outputs": [],
   "source": [
    "optional_df = optional_df[optional_df.activityID != 0]"
   ]
  },
  {
   "cell_type": "code",
   "execution_count": 18,
   "metadata": {},
   "outputs": [
    {
     "data": {
      "text/plain": [
       "782081"
      ]
     },
     "execution_count": 18,
     "metadata": {},
     "output_type": "execute_result"
    }
   ],
   "source": [
    "len(optional_df)"
   ]
  },
  {
   "cell_type": "markdown",
   "metadata": {},
   "source": [
    "After removing activityID = 0, we are left with 782081 rows"
   ]
  },
  {
   "cell_type": "markdown",
   "metadata": {},
   "source": [
    "To know total data per subject"
   ]
  },
  {
   "cell_type": "code",
   "execution_count": 19,
   "metadata": {
    "collapsed": true
   },
   "outputs": [],
   "source": [
    "grouped_by_subject = optional_df.groupby(['subject'])"
   ]
  },
  {
   "cell_type": "code",
   "execution_count": 22,
   "metadata": {},
   "outputs": [
    {
     "data": {
      "text/plain": [
       "subject\n",
       "subject101    219368\n",
       "subject105    139371\n",
       "subject106    112277\n",
       "subject108    152192\n",
       "subject109    158873\n",
       "Name: subject, dtype: int64"
      ]
     },
     "execution_count": 22,
     "metadata": {},
     "output_type": "execute_result"
    }
   ],
   "source": [
    "grouped_by_subject['subject'].count()"
   ]
  }
 ],
 "metadata": {
  "kernelspec": {
   "display_name": "Python 3",
   "language": "python",
   "name": "python3"
  },
  "language_info": {
   "codemirror_mode": {
    "name": "ipython",
    "version": 3
   },
   "file_extension": ".py",
   "mimetype": "text/x-python",
   "name": "python",
   "nbconvert_exporter": "python",
   "pygments_lexer": "ipython3",
   "version": "3.6.1"
  }
 },
 "nbformat": 4,
 "nbformat_minor": 2
}
